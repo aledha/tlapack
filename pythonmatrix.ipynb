{
 "cells": [
  {
   "cell_type": "code",
   "execution_count": 2,
   "metadata": {},
   "outputs": [],
   "source": [
    "import numpy as np\n",
    "n = 3\n",
    "\n",
    "def M_manteuffel(n):\n",
    "    \"\"\"M is a matrix of zeros of size n*n by n*n\"\"\"\n",
    "    full_size = n * n\n",
    "    M = [[0] * full_size for _ in range(full_size)] \n",
    "    for i in range(n):\n",
    "        for j in range(n):\n",
    "            idx = i * n + j\n",
    "            M[idx][idx] = 4\n",
    "            if j > 0:\n",
    "                M[idx][idx - 1] = -1\n",
    "            if j < n - 1:\n",
    "                M[idx][idx + 1] = -1\n",
    "            if i > 0:\n",
    "                M[idx][idx - n] = -1\n",
    "            if i < n - 1:\n",
    "                M[idx][idx + n] = -1\n",
    "    return M\n",
    "\n",
    "def N_manteuffel(n):\n",
    "    full_size = n * n\n",
    "    matrix = [[0] * full_size for _ in range(full_size)]\n",
    "    for i in range(n):\n",
    "        for j in range(n):\n",
    "            idx = i * n + j\n",
    "            if j > 0:\n",
    "                matrix[idx][idx - 1] = -1\n",
    "            if j < n - 1:\n",
    "                matrix[idx][idx + 1] = 1\n",
    "            if i < n - 1:\n",
    "                matrix[idx + n][idx] = -1\n",
    "                matrix[idx][idx + n] = 1\n",
    "    return matrix\n",
    "\n",
    "def create_manteuffel_matrix(n, h, beta):\n",
    "    M = M_manteuffel(n)\n",
    "    N = N_manteuffel(n)\n",
    "    A = [[(1 / h**2) * M[i][j] + (beta / (2 * h)) * N[i][j] for j in range(n*n)] for i in range(n*n)]\n",
    "    return A"
   ]
  },
  {
   "cell_type": "code",
   "execution_count": 3,
   "metadata": {},
   "outputs": [],
   "source": [
    "from math import cos, pi, sqrt\n",
    "\n",
    "def lambda_j_k(k, j, L, beta):\n",
    "    # Eigenvalue formula from the uploaded image\n",
    "    return 2*(2 - sqrt(1 - (beta / 2)**2) * (cos(j * pi / L) + cos(k * pi / L)))\n",
    "\n",
    "def compute_eigenvalues(n, L, beta):\n",
    "    # Calculate eigenvalues for ell, j in range 1 to k\n",
    "    eigenvalues = []\n",
    "    for ell in range(1, n + 1):\n",
    "        for j in range(1, n + 1):\n",
    "            eigenvalue = lambda_j_k(ell, j, L, beta)\n",
    "            eigenvalues.append(eigenvalue)\n",
    "    return eigenvalues"
   ]
  },
  {
   "cell_type": "code",
   "execution_count": 4,
   "metadata": {},
   "outputs": [],
   "source": [
    "from cmath import cos, pi, sqrt # complex number support\n",
    "\n",
    "def lambda_j_k(k, j, L, beta):\n",
    "    return 2 * (2 - sqrt(1 - (beta / 2)**2) * (cos(j * pi / L) + cos(k * pi / L)))\n",
    "\n",
    "def compute_eigenvalues(n, L, beta):\n",
    "    eigenvalues = []\n",
    "    for k in range(1, n + 1):\n",
    "        for j in range(1, n + 1):\n",
    "            eigenvalue = lambda_j_k(k, j, L, beta)\n",
    "            eigenvalues.append(eigenvalue)\n",
    "    return eigenvalues\n"
   ]
  },
  {
   "cell_type": "code",
   "execution_count": 5,
   "metadata": {},
   "outputs": [
    {
     "name": "stdout",
     "output_type": "stream",
     "text": [
      "4\n",
      "Eigenvalues calculated by hand:\n",
      "[4.-3.16227766e+00j 4.-1.58113883e+00j 4.-1.58113883e+00j\n",
      " 4.-2.73839349e-16j 4.-2.48253415e-16j 4.-2.48253415e-16j\n",
      " 4.+1.58113883e+00j 4.+1.58113883e+00j 4.+3.16227766e+00j]\n",
      "Eigenvalues calculated by numpy:\n",
      "[4.+0.j         4.+0.j         4.-3.16227766j 4.+0.j\n",
      " 4.+3.16227766j 4.-1.58113883j 4.+1.58113883j 4.-1.58113883j\n",
      " 4.+1.58113883j]\n"
     ]
    },
    {
     "data": {
      "text/plain": [
       "True"
      ]
     },
     "execution_count": 5,
     "metadata": {},
     "output_type": "execute_result"
    }
   ],
   "source": [
    "beta = 3\n",
    "h = 1\n",
    "n = 3\n",
    "L = h*(n+1)\n",
    "print(L)\n",
    "eigenvalues = compute_eigenvalues(n, L, beta)\n",
    "A = create_manteuffel_matrix(n, h, beta)\n",
    "evals, _ = np.linalg.eig(A)\n",
    "\n",
    "print(\"Eigenvalues calculated by hand:\")\n",
    "print(np.sort(eigenvalues))\n",
    "print(\"Eigenvalues calculated by numpy:\")\n",
    "print(np.sort(evals))\n",
    "np.allclose(np.sort(np.abs(eigenvalues)), np.sort(np.abs(evals)))\n"
   ]
  },
  {
   "cell_type": "code",
   "execution_count": 6,
   "metadata": {},
   "outputs": [
    {
     "data": {
      "text/plain": [
       "[[4.0, 0.5, 0.0, 0.5, 0.0, 0.0, 0.0, 0.0, 0.0],\n",
       " [-2.5, 4.0, 0.5, 0.0, 0.5, 0.0, 0.0, 0.0, 0.0],\n",
       " [0.0, -2.5, 4.0, 0.0, 0.0, 0.5, 0.0, 0.0, 0.0],\n",
       " [-2.5, 0.0, 0.0, 4.0, 0.5, 0.0, 0.5, 0.0, 0.0],\n",
       " [0.0, -2.5, 0.0, -2.5, 4.0, 0.5, 0.0, 0.5, 0.0],\n",
       " [0.0, 0.0, -2.5, 0.0, -2.5, 4.0, 0.0, 0.0, 0.5],\n",
       " [0.0, 0.0, 0.0, -2.5, 0.0, 0.0, 4.0, 0.5, 0.0],\n",
       " [0.0, 0.0, 0.0, 0.0, -2.5, 0.0, -2.5, 4.0, 0.5],\n",
       " [0.0, 0.0, 0.0, 0.0, 0.0, -2.5, 0.0, -2.5, 4.0]]"
      ]
     },
     "execution_count": 6,
     "metadata": {},
     "output_type": "execute_result"
    }
   ],
   "source": [
    "A"
   ]
  },
  {
   "cell_type": "code",
   "execution_count": null,
   "metadata": {},
   "outputs": [],
   "source": []
  }
 ],
 "metadata": {
  "kernelspec": {
   "display_name": "base",
   "language": "python",
   "name": "python3"
  },
  "language_info": {
   "codemirror_mode": {
    "name": "ipython",
    "version": 3
   },
   "file_extension": ".py",
   "mimetype": "text/x-python",
   "name": "python",
   "nbconvert_exporter": "python",
   "pygments_lexer": "ipython3",
   "version": "3.11.4"
  }
 },
 "nbformat": 4,
 "nbformat_minor": 2
}

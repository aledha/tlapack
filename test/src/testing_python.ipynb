{
 "cells": [
  {
   "cell_type": "code",
   "execution_count": 1,
   "metadata": {},
   "outputs": [],
   "source": [
    "import numpy as np\n",
    "\n",
    "def binomial_coeff(n, k):\n",
    "    \"\"\"\n",
    "    Calculate binomial coefficients.\n",
    "\n",
    "    :param n: Size of the matrix.\n",
    "    :param k: Element position in the matrix.\n",
    "    :return: Binomial coefficient.\n",
    "    \"\"\"\n",
    "    if k > n - k:\n",
    "        k = n - k\n",
    "    res = 1\n",
    "    for i in range(k):\n",
    "        res *= (n - i)\n",
    "        res //= (i + 1)\n",
    "    return res\n"
   ]
  },
  {
   "cell_type": "code",
   "execution_count": 15,
   "metadata": {},
   "outputs": [
    {
     "name": "stdout",
     "output_type": "stream",
     "text": [
      "[[ 0.3415493   0.04225352 -0.07746479  0.00352113 -0.05985915]\n",
      " [ 0.04225352 -0.21126761  0.27464789 -0.0528169   0.1971831 ]\n",
      " [-0.07746479  0.27464789 -0.12676056  0.22183099 -0.04225352]\n",
      " [ 0.00352113 -0.0528169   0.22183099 -0.1056338   0.18309859]\n",
      " [-0.05985915  0.1971831  -0.04225352  0.18309859 -0.02816901]]\n",
      "[[ 2.87256896e+00  8.06326182e-01  1.92314370e-01  1.16958375e-01\n",
      "   1.18321098e-02]\n",
      " [ 8.06326182e-01 -4.75598512e+00 -2.87115492e+00  5.53592273e+00\n",
      "   5.28489113e+00]\n",
      " [ 1.92314370e-01 -2.87115492e+00 -1.68669030e+01  2.50028554e+00\n",
      "   2.10454580e+01]\n",
      " [ 1.16958375e-01  5.53592273e+00  2.50028554e+00 -5.18742145e+00\n",
      "   1.03425481e+00]\n",
      " [ 1.18321098e-02  5.28489113e+00  2.10454580e+01  1.03425481e+00\n",
      "  -2.33764360e+01]]\n"
     ]
    }
   ],
   "source": [
    "\n",
    "def binomial_matrix(n):\n",
    "    \"\"\"\n",
    "    Generate a binomial matrix.\n",
    "\n",
    "    :param n: Size of the matrix.\n",
    "    :return: Binomial matrix of size n x n.\n",
    "    \"\"\"\n",
    "    A = np.zeros((n, n), dtype=int)\n",
    "    for i in range(n):\n",
    "        for j in range(i + 1):\n",
    "            A[i, j] = binomial_coeff(i, j)\n",
    "            if j != i:\n",
    "                A[j, i] = A[i, j]  # Symmetric entry\n",
    "    return A\n",
    "\n",
    "# Example usage\n",
    "n = 5\n",
    "A = binomial_matrix(n)\n",
    "A_inv = np.linalg.inv(A)\n",
    "B = A* 2**((1-n)/2)\n",
    "# matrix_inv = np.linalg.inv(A)\n",
    "print(B)\n",
    "print(np.linalg.inv(B))\n"
   ]
  },
  {
   "cell_type": "code",
   "execution_count": 8,
   "metadata": {},
   "outputs": [
    {
     "name": "stdout",
     "output_type": "stream",
     "text": [
      "[[0.25 0.   0.  ]\n",
      " [0.   0.25 0.  ]\n",
      " [0.   0.   0.25]]\n"
     ]
    }
   ],
   "source": [
    "def binom(n):\n",
    "    A = 2**(n-1)*np.eye(n)\n",
    "    print(np.linalg.inv(A))\n",
    "n=3\n",
    "binom(n)"
   ]
  },
  {
   "cell_type": "code",
   "execution_count": 9,
   "metadata": {},
   "outputs": [
    {
     "name": "stdout",
     "output_type": "stream",
     "text": [
      "[1.0, 0, 0, 0, 0]\n",
      "[1.0, 1.0, 0, 0, 0]\n",
      "[1.0, 2.0, 1.0, 0, 0]\n",
      "[1.0, 3.0, 3.0, 1.0, 0]\n",
      "[1.0, 4.0, 6.0, 4.0, 1.0]\n"
     ]
    }
   ],
   "source": [
    "import scipy.special as sp\n",
    "\n",
    "def binomial_matrix(n):\n",
    "    matrix = [[sp.comb(j, i) for i in range(j + 1)] + [0] * (n - j - 1) for j in range(n)]\n",
    "    return matrix\n",
    "\n",
    "# Example usage\n",
    "n = 5  # size of the matrix\n",
    "matrix = binomial_matrix(n)\n",
    "for row in matrix:\n",
    "    print(row)\n"
   ]
  },
  {
   "cell_type": "code",
   "execution_count": 13,
   "metadata": {},
   "outputs": [
    {
     "name": "stdout",
     "output_type": "stream",
     "text": [
      "[[ 4.  0.  0.  0.  0.]\n",
      " [ 4.  4. -0. -0. -0.]\n",
      " [ 4.  8.  4. -0. -0.]\n",
      " [ 4. 12. 12.  4. -0.]\n",
      " [ 4. 16. 24. 16.  4.]]\n",
      "[[ 0.25  0.    0.    0.    0.  ]\n",
      " [-0.25  0.25  0.    0.    0.  ]\n",
      " [ 0.25 -0.5   0.25 -0.   -0.  ]\n",
      " [-0.25  0.75 -0.75  0.25 -0.  ]\n",
      " [ 0.25 -1.    1.5  -1.    0.25]]\n"
     ]
    }
   ],
   "source": [
    "A_2 = np.array(matrix)\n",
    "A = np.linalg.inv(A_2)\n",
    "\n",
    "B = np.linalg.inv(matrix_inv) * 2**((n-1)/2)\n",
    "print(B)\n",
    "print(np.linalg.inv(B))\n",
    "\n"
   ]
  },
  {
   "cell_type": "code",
   "execution_count": null,
   "metadata": {},
   "outputs": [],
   "source": []
  }
 ],
 "metadata": {
  "kernelspec": {
   "display_name": "base",
   "language": "python",
   "name": "python3"
  },
  "language_info": {
   "codemirror_mode": {
    "name": "ipython",
    "version": 3
   },
   "file_extension": ".py",
   "mimetype": "text/x-python",
   "name": "python",
   "nbconvert_exporter": "python",
   "pygments_lexer": "ipython3",
   "version": "3.11.4"
  }
 },
 "nbformat": 4,
 "nbformat_minor": 2
}
